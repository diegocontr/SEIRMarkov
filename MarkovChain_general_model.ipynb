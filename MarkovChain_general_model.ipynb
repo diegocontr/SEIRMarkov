{
 "cells": [
  {
   "cell_type": "code",
   "execution_count": 1,
   "id": "f59748e1",
   "metadata": {},
   "outputs": [],
   "source": [
    "import numpy as np\n",
    "import pylab as plt\n",
    "import seaborn as sns\n",
    "import pandas as pd\n",
    "from scipy.stats import kendalltau\n",
    "\n",
    "from IPython.display import display\n",
    "\n",
    "from functions import integrate_model,CompartmentalChainModel,CompartmentalModel_from_Reactions\n"
   ]
  },
  {
   "cell_type": "markdown",
   "id": "f5cbce8c",
   "metadata": {},
   "source": [
    "# Markov chain approximation for compartmental models\n",
    "\n",
    "We first load the adjacency matrix `Wij` of the network of contacts, and the metadata, for a particular setting"
   ]
  },
  {
   "cell_type": "code",
   "execution_count": 2,
   "id": "1f9fb96a",
   "metadata": {},
   "outputs": [],
   "source": [
    "setting = 'hospital' \n",
    "contact_meta= pd.read_csv('Data/meta_{}.csv'.format(setting))\n",
    "Wij= np.loadtxt('Data/wij_{}.np'.format(setting))"
   ]
  },
  {
   "cell_type": "markdown",
   "id": "6d63e1be",
   "metadata": {},
   "source": [
    "We create some models. The simplest way is to consider a disease which evolves by a chain of transitions.\n",
    "After creating the model, we calibrate it so later we can prescribe a final size instead of the rate of transmission `beta`, to make more easy the comparison among models.\n",
    "\n"
   ]
  },
  {
   "cell_type": "code",
   "execution_count": 122,
   "id": "4cc9130e",
   "metadata": {},
   "outputs": [
    {
     "name": "stdout",
     "output_type": "stream",
     "text": [
      "\n",
      " SIR\n",
      "\n",
      " SEIR\n",
      "\n",
      " SEIRe2\n",
      "\n",
      " SEIRe4\n",
      "\n",
      " SEIR shape 3\n",
      "\n",
      " SEIQIR\n"
     ]
    }
   ],
   "source": [
    "mu = 1.0\n",
    "epsilon = 1.0\n",
    "list_of_param= [  \n",
    "                  ('SIR', 0.01, [1,0], [mu, 0]),\n",
    "                  ('SEIR', 0.01, [0,1,0], [epsilon, mu, 0]),\n",
    "                  ('SEIRe2', 0.01, [0,1,0], [epsilon / 2, mu, 0]),\n",
    "                  ('SEIRe4', 0.01, [0,1,0], [epsilon / 4, mu, 0]),\n",
    "                  ('SEIR std 0.5', 0.01/4, [0, 0, 0, 0, 1, 1, 1, 1, 0],\n",
    "                   [epsilon*4 for i in range(4)] + [mu*4 for i in range(4)]+ [0]),\n",
    "                  ('SEIQIR', 0.01, [0,1,0,1,0], [epsilon*2, mu*2, epsilon*2, mu*2, 0]),\n",
    "                  ]\n",
    "\n",
    "dict_of_models = {}\n",
    "for name, dt, rbeta, rates in list_of_param:\n",
    "    print(name,' ',)\n",
    "    model = CompartmentalChainModel(name = name,\n",
    "                                    Wij = Wij, \n",
    "                                    dt = dt,\n",
    "                                    rbeta = np.array( rbeta), \n",
    "                                    rates = np.array(rates),\n",
    "                                    )   \n",
    "    model.calibrate_size(0.001,1.0)\n",
    "    dict_of_models[name] =  model\n"
   ]
  },
  {
   "cell_type": "markdown",
   "id": "53190af0",
   "metadata": {},
   "source": [
    "We can also create more complex model by defining reactions in the form of triplets `(reactant, product, rate)`. We include a model for COVID and antoher more exotic where the disease cycles among different infectious states."
   ]
  },
  {
   "cell_type": "code",
   "execution_count": 123,
   "id": "2dcc391e",
   "metadata": {},
   "outputs": [],
   "source": [
    "# ----------- COVID model ---------\n",
    "list_of_reactions= [ \n",
    "      ('E', 'I', 7/4 ),\n",
    "      ('I', 'Ic', 7/1.8 ),\n",
    "      ('I', 'Isc', 7/1.8 ),\n",
    "      ('Ic', 'R', 7/5 ),\n",
    "      ('Isc', 'R', 7/5 ),\n",
    "     ]\n",
    "states    = ['E','I', 'Ic', 'Isc','R']     \n",
    "rbeta = [ 0,  0.5, 1,   0.5,   0]\n",
    "model = CompartmentalModel_from_Reactions(\n",
    "                            name = 'COVID',\n",
    "                            Wij = Wij, dt = dt,\n",
    "                            rbeta = np.array( rbeta), \n",
    "                            states = states,\n",
    "                            list_of_reactions = list_of_reactions,\n",
    "                            )   \n",
    "model.calibrate_size(0.001,1.0)\n",
    "dict_of_models[model.name] =  model\n",
    "\n",
    "# ----------- Cycling model ---------\n",
    "r1 = 1\n",
    "r2 = 0.5\n",
    "list_of_reactions = [ \n",
    "     ('E','I1', r1 ),\n",
    "     ('I1','I2', r1 ),\n",
    "     ('I2','I3', r1 ),\n",
    "     ('I3','I4', r1 ),\n",
    "     ('I4','I1', r1 ),     \n",
    "     ('I2','R', r2 ),\n",
    "     ('I4','R', r2 ),  \n",
    "]\n",
    "states    = ['E','I1','I2','I3','I4','R']     \n",
    "rbeta = [ 0,  1.0, 1.0,   0.25, 0.125,  0]\n",
    "model = CompartmentalModel_from_Reactions(\n",
    "                            name = 'CYCLE',\n",
    "                            Wij = Wij, dt = dt,\n",
    "                            rbeta = np.array( rbeta), \n",
    "                            states = states,\n",
    "                            list_of_reactions = list_of_reactions,\n",
    "                            )   \n",
    "\n",
    "model.calibrate_size(0.001,1.0)\n",
    "dict_of_models[model.name] =  model\n"
   ]
  },
  {
   "cell_type": "markdown",
   "id": "89e6fd97",
   "metadata": {},
   "source": [
    "We can plot the result of the calibration"
   ]
  },
  {
   "cell_type": "code",
   "execution_count": 124,
   "id": "1beac4ad",
   "metadata": {},
   "outputs": [
    {
     "data": {
      "text/plain": [
       "<matplotlib.legend.Legend at 0x7f32686e34c0>"
      ]
     },
     "execution_count": 124,
     "metadata": {},
     "output_type": "execute_result"
    },
    {
     "data": {
      "image/png": "[encoded data removed]",
      "text/plain": [
       "<Figure size 432x288 with 1 Axes>"
      ]
     },
     "metadata": {
      "needs_background": "light"
     },
     "output_type": "display_data"
    }
   ],
   "source": [
    "for model in dict_of_models.values():\n",
    "    plt.plot(model.BETAS,model.SIZES,label=model.name)\n",
    "plt.ylabel('size')\n",
    "plt.xlabel('$\\\\beta$')    \n",
    "plt.xscale('log')\n",
    "plt.legend()   \n",
    "plt.show()"
   ]
  },
  {
   "cell_type": "markdown",
   "id": "6a77ee74",
   "metadata": {},
   "source": [
    "Also we can plot the expected number of individuals in each compartment in function of time, for a given attack rate. Here for example we plot the evolution in the SEIR model."
   ]
  },
  {
   "cell_type": "code",
   "execution_count": 127,
   "id": "f6946306",
   "metadata": {},
   "outputs": [
    {
     "data": {
      "image/png": "[encoded data removed]",
      "text/plain": [
       "<Figure size 432x288 with 1 Axes>"
      ]
     },
     "metadata": {
      "needs_background": "light"
     },
     "output_type": "display_data"
    }
   ],
   "source": [
    "tmax = 30\n",
    "attack = 71*0.6\n",
    "model = dict_of_models['SEIR']\n",
    "s = model.run_calsize(attack, tmax)\n",
    "s = np.array(s)\n",
    "time = np.arange(s.shape[0])*model.dt\n",
    "\n",
    "plt.plot(time,s[:,0],label = list('EIR') )\n",
    "plt.plot(time,s.sum(axis=2),'k--',label = 'size' )\n",
    "plt.legend()\n",
    "plt.show()"
   ]
  },
  {
   "cell_type": "markdown",
   "id": "01278ac5",
   "metadata": {},
   "source": []
  }
 ],
 "metadata": {
  "kernelspec": {
   "display_name": "Python 3 (ipykernel)",
   "language": "python",
   "name": "python3"
  },
  "language_info": {
   "codemirror_mode": {
    "name": "ipython",
    "version": 3
   },
   "file_extension": ".py",
   "mimetype": "text/x-python",
   "name": "python",
   "nbconvert_exporter": "python",
   "pygments_lexer": "ipython3",
   "version": "3.9.12"
  }
 },
 "nbformat": 4,
 "nbformat_minor": 5
}
